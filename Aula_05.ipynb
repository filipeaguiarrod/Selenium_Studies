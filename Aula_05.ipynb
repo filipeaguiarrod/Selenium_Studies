{
 "cells": [
  {
   "cell_type": "code",
   "execution_count": 13,
   "metadata": {},
   "outputs": [],
   "source": [
    "from selenium.webdriver import Chrome\n",
    "from time import sleep\n",
    "from urllib.parse import urlparse"
   ]
  },
  {
   "cell_type": "markdown",
   "metadata": {},
   "source": [
    "# 01"
   ]
  },
  {
   "cell_type": "code",
   "execution_count": 4,
   "metadata": {},
   "outputs": [],
   "source": [
    "browser = Chrome()\n",
    "\n",
    "browser.get('https://selenium.dunossauro.live/aula_05_a.html')"
   ]
  },
  {
   "cell_type": "code",
   "execution_count": 7,
   "metadata": {},
   "outputs": [],
   "source": [
    "div_1 = browser.find_element_by_tag_name('div')"
   ]
  },
  {
   "cell_type": "code",
   "execution_count": 8,
   "metadata": {},
   "outputs": [
    {
     "data": {
      "text/plain": [
       "'Python\\nCriada em 1991'"
      ]
     },
     "execution_count": 8,
     "metadata": {},
     "output_type": "execute_result"
    }
   ],
   "source": [
    "div_1.text"
   ]
  },
  {
   "cell_type": "code",
   "execution_count": 11,
   "metadata": {},
   "outputs": [],
   "source": [
    "div_2 = browser.find_element_by_id('prolog')"
   ]
  },
  {
   "cell_type": "code",
   "execution_count": 12,
   "metadata": {},
   "outputs": [
    {
     "data": {
      "text/plain": [
       "'Prolog\\nCriada em 1972'"
      ]
     },
     "execution_count": 12,
     "metadata": {},
     "output_type": "execute_result"
    }
   ],
   "source": [
    "div_2.text"
   ]
  },
  {
   "cell_type": "markdown",
   "metadata": {},
   "source": [
    "# 02"
   ]
  },
  {
   "cell_type": "code",
   "execution_count": 13,
   "metadata": {},
   "outputs": [],
   "source": [
    "browser = Chrome()\n",
    "\n",
    "browser.get('https://selenium.dunossauro.live/aula_05_b.html')"
   ]
  },
  {
   "cell_type": "code",
   "execution_count": 15,
   "metadata": {},
   "outputs": [],
   "source": [
    "topico = browser.find_element_by_class_name('topico')"
   ]
  },
  {
   "cell_type": "code",
   "execution_count": 16,
   "metadata": {},
   "outputs": [
    {
     "data": {
      "text/plain": [
       "'Minhas linguagens preferidas'"
      ]
     },
     "execution_count": 16,
     "metadata": {},
     "output_type": "execute_result"
    }
   ],
   "source": [
    "topico.text"
   ]
  },
  {
   "cell_type": "code",
   "execution_count": 22,
   "metadata": {},
   "outputs": [],
   "source": [
    "languages = browser.find_elements_by_class_name('linguagens')"
   ]
  },
  {
   "cell_type": "code",
   "execution_count": 23,
   "metadata": {},
   "outputs": [
    {
     "data": {
      "text/plain": [
       "[<selenium.webdriver.remote.webelement.WebElement (session=\"d94c07fd1756f21fad0db14be1350299\", element=\"b91d3a0b-cf38-46a9-bbee-357479c194b4\")>,\n",
       " <selenium.webdriver.remote.webelement.WebElement (session=\"d94c07fd1756f21fad0db14be1350299\", element=\"6990856f-f7e7-4ad6-83af-8602dd0a6016\")>,\n",
       " <selenium.webdriver.remote.webelement.WebElement (session=\"d94c07fd1756f21fad0db14be1350299\", element=\"61b89d9e-fe09-4826-9c0b-2823a5c00782\")>,\n",
       " <selenium.webdriver.remote.webelement.WebElement (session=\"d94c07fd1756f21fad0db14be1350299\", element=\"c61ac6a6-3a9a-4cc4-9bd5-d465d7e7260e\")>]"
      ]
     },
     "execution_count": 23,
     "metadata": {},
     "output_type": "execute_result"
    }
   ],
   "source": [
    "languages"
   ]
  },
  {
   "cell_type": "code",
   "execution_count": 25,
   "metadata": {},
   "outputs": [
    {
     "data": {
      "text/plain": [
       "['Python\\nCriada em 1991',\n",
       " 'Haskell\\nCriada em 1990',\n",
       " 'Lisp\\nCriada em 1958',\n",
       " 'Prolog\\nCriada em 1972']"
      ]
     },
     "execution_count": 25,
     "metadata": {},
     "output_type": "execute_result"
    }
   ],
   "source": [
    "linguagens = [i.text for i in languages]\n",
    "linguagens"
   ]
  },
  {
   "cell_type": "code",
   "execution_count": 30,
   "metadata": {},
   "outputs": [
    {
     "name": "stdout",
     "output_type": "stream",
     "text": [
      "('Python', 'Criada em 1991')\n",
      "('Haskell', 'Criada em 1990')\n",
      "('Lisp', 'Criada em 1958')\n",
      "('Prolog', 'Criada em 1972')\n"
     ]
    }
   ],
   "source": [
    "for element in languages:\n",
    "    print((element.find_element_by_tag_name('h2').text,element.find_element_by_tag_name('p').text))"
   ]
  },
  {
   "cell_type": "markdown",
   "metadata": {},
   "source": [
    "# 03"
   ]
  },
  {
   "cell_type": "code",
   "execution_count": 33,
   "metadata": {},
   "outputs": [],
   "source": [
    "browser = Chrome()\n",
    "\n",
    "browser.get('https://selenium.dunossauro.live/aula_05_c.html')"
   ]
  },
  {
   "cell_type": "code",
   "execution_count": 34,
   "metadata": {},
   "outputs": [],
   "source": [
    "melhor_filme = browser.find_element_by_name('filme')"
   ]
  },
  {
   "cell_type": "code",
   "execution_count": 35,
   "metadata": {},
   "outputs": [],
   "source": [
    "## preenchendo field\n",
    "\n",
    "melhor_filme.send_keys('Into the Wild')"
   ]
  },
  {
   "cell_type": "code",
   "execution_count": 36,
   "metadata": {},
   "outputs": [],
   "source": [
    "email = browser.find_element_by_name('email')"
   ]
  },
  {
   "cell_type": "code",
   "execution_count": 37,
   "metadata": {},
   "outputs": [],
   "source": [
    "email.send_keys('filipeaguiarrod@gmail.com')"
   ]
  },
  {
   "cell_type": "code",
   "execution_count": 41,
   "metadata": {},
   "outputs": [],
   "source": [
    "telefone = browser.find_element_by_name('telefone')\n",
    "telefone.send_keys('(011)22222-222')"
   ]
  },
  {
   "cell_type": "code",
   "execution_count": 43,
   "metadata": {},
   "outputs": [],
   "source": [
    "# Enviar \n",
    "\n",
    "browser.find_element_by_name('enviar').click()"
   ]
  },
  {
   "cell_type": "markdown",
   "metadata": {},
   "source": [
    "# 04"
   ]
  },
  {
   "cell_type": "code",
   "execution_count": 9,
   "metadata": {},
   "outputs": [],
   "source": [
    "browser = Chrome()\n",
    "\n",
    "browser.get('https://selenium.dunossauro.live/aula_05.html')"
   ]
  },
  {
   "cell_type": "code",
   "execution_count": 10,
   "metadata": {},
   "outputs": [],
   "source": [
    "sleep(1)\n",
    "\n",
    "nome = browser.find_element_by_name('nome')\n",
    "nome.send_keys('Heisenberg')\n",
    "\n",
    "email = browser.find_element_by_name('email')\n",
    "email.send_keys('filipeaguiarrod@gmai.com')\n",
    "\n",
    "senha = browser.find_element_by_name('senha')\n",
    "senha.send_keys('sadafi')\n",
    "\n",
    "telefone = browser.find_element_by_name('telefone')\n",
    "telefone.send_keys('(011)2222-2222')\n",
    "\n",
    "enviar = browser.find_element_by_name('btn')\n",
    "enviar.click()"
   ]
  },
  {
   "cell_type": "code",
   "execution_count": 15,
   "metadata": {},
   "outputs": [
    {
     "data": {
      "text/plain": [
       "ParseResult(scheme='https', netloc='selenium.dunossauro.live', path='/aula_05.html', params='', query='nome=Heisenberg&email=filipeaguiarrod%40gmai.com&senha=sadafi&telefone=%28011%292222-2222&btn=Enviar%21', fragment='')"
      ]
     },
     "execution_count": 15,
     "metadata": {},
     "output_type": "execute_result"
    }
   ],
   "source": [
    "url_parseada = urlparse(browser.current_url)\n",
    "url_parseada"
   ]
  },
  {
   "cell_type": "code",
   "execution_count": 18,
   "metadata": {},
   "outputs": [
    {
     "data": {
      "text/plain": [
       "['nome=Heisenberg',\n",
       " 'email=filipeaguiarrod%40gmai.com',\n",
       " 'senha=sadafi',\n",
       " 'telefone=%28011%292222-2222',\n",
       " 'btn=Enviar%21']"
      ]
     },
     "execution_count": 18,
     "metadata": {},
     "output_type": "execute_result"
    }
   ],
   "source": [
    "url_parseada.query.split('&')"
   ]
  }
 ],
 "metadata": {
  "kernelspec": {
   "display_name": "Python 3",
   "language": "python",
   "name": "python3"
  },
  "language_info": {
   "codemirror_mode": {
    "name": "ipython",
    "version": 3
   },
   "file_extension": ".py",
   "mimetype": "text/x-python",
   "name": "python",
   "nbconvert_exporter": "python",
   "pygments_lexer": "ipython3",
   "version": "3.8.5"
  }
 },
 "nbformat": 4,
 "nbformat_minor": 4
}
